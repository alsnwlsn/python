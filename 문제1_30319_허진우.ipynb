{
  "nbformat": 4,
  "nbformat_minor": 0,
  "metadata": {
    "kernelspec": {
      "display_name": "Python 3",
      "language": "python",
      "name": "python3"
    },
    "language_info": {
      "codemirror_mode": {
        "name": "ipython",
        "version": 3
      },
      "file_extension": ".py",
      "mimetype": "text/x-python",
      "name": "python",
      "nbconvert_exporter": "python",
      "pygments_lexer": "ipython3",
      "version": "3.7.4"
    },
    "colab": {
      "name": "문제1_30319_허진우.ipynb",
      "provenance": [],
      "include_colab_link": true
    }
  },
  "cells": [
    {
      "cell_type": "markdown",
      "metadata": {
        "id": "view-in-github",
        "colab_type": "text"
      },
      "source": [
        "<a href=\"https://colab.research.google.com/github/alsnwlsn/python/blob/master/%EB%AC%B8%EC%A0%9C1_30319_%ED%97%88%EC%A7%84%EC%9A%B0.ipynb\" target=\"_parent\"><img src=\"https://colab.research.google.com/assets/colab-badge.svg\" alt=\"Open In Colab\"/></a>"
      ]
    },
    {
      "cell_type": "markdown",
      "metadata": {
        "id": "YkQn0xODy0Sx",
        "colab_type": "text"
      },
      "source": [
        "# 문제1"
      ]
    },
    {
      "cell_type": "markdown",
      "metadata": {
        "id": "J8bMpg4py0Sy",
        "colab_type": "text"
      },
      "source": [
        "## 1.[문제1]다음과 같이 출력하기\n",
        "- **python** 은 재밋당\n",
        "- $ y = 3x $"
      ]
    },
    {
      "cell_type": "code",
      "metadata": {
        "id": "MRhc7UJGy0Sz",
        "colab_type": "code",
        "outputId": "4c1f9e93-ae32-46f6-d2e5-149f6719160f",
        "colab": {}
      },
      "source": [
        "print(\"Hello python\")"
      ],
      "execution_count": 0,
      "outputs": [
        {
          "output_type": "stream",
          "text": [
            "Hello python\n"
          ],
          "name": "stdout"
        }
      ]
    },
    {
      "cell_type": "code",
      "metadata": {
        "id": "EHeP9uJyy0S2",
        "colab_type": "code",
        "outputId": "62ddd966-c49f-4dfe-a53f-a499dd1bb9a3",
        "colab": {}
      },
      "source": [
        "a=10\n",
        "b=20.8\n",
        "a\n",
        "a,b"
      ],
      "execution_count": 0,
      "outputs": [
        {
          "output_type": "execute_result",
          "data": {
            "text/plain": [
              "(10, 20.8)"
            ]
          },
          "metadata": {
            "tags": []
          },
          "execution_count": 12
        }
      ]
    },
    {
      "cell_type": "code",
      "metadata": {
        "id": "-xw3hCPIy0S4",
        "colab_type": "code",
        "outputId": "c70d2a90-7534-47b3-c4b1-557b157975a6",
        "colab": {}
      },
      "source": [
        "type(a),type(b)"
      ],
      "execution_count": 0,
      "outputs": [
        {
          "output_type": "execute_result",
          "data": {
            "text/plain": [
              "(int, float)"
            ]
          },
          "metadata": {
            "tags": []
          },
          "execution_count": 13
        }
      ]
    },
    {
      "cell_type": "code",
      "metadata": {
        "id": "-iXt7aI_y0S6",
        "colab_type": "code",
        "outputId": "21fa92d4-66d7-4ee0-9dd2-62da6a7ea458",
        "colab": {}
      },
      "source": [
        "# 3 + 2 - 5\n",
        "print('3 + 2 = ',3+2)"
      ],
      "execution_count": 0,
      "outputs": [
        {
          "output_type": "stream",
          "text": [
            "3 + 2 =  5\n"
          ],
          "name": "stdout"
        }
      ]
    },
    {
      "cell_type": "code",
      "metadata": {
        "id": "HrERwvuRy0S8",
        "colab_type": "code",
        "outputId": "687c27f7-0f26-43af-e130-0cb81fae9c38",
        "colab": {}
      },
      "source": [
        "a = '파이썬 조아'\n",
        "a,type(a)"
      ],
      "execution_count": 0,
      "outputs": [
        {
          "output_type": "execute_result",
          "data": {
            "text/plain": [
              "('파이썬 조아', str)"
            ]
          },
          "metadata": {
            "tags": []
          },
          "execution_count": 18
        }
      ]
    },
    {
      "cell_type": "code",
      "metadata": {
        "id": "driTLZoUy0S-",
        "colab_type": "code",
        "outputId": "14958b8a-f632-41f4-f22b-89cd47fb43b3",
        "colab": {}
      },
      "source": [
        "a[0],a[2],a[-1],a[4:],a[:3]"
      ],
      "execution_count": 0,
      "outputs": [
        {
          "output_type": "execute_result",
          "data": {
            "text/plain": [
              "('파', '썬', '아', '조아', '파이썬')"
            ]
          },
          "metadata": {
            "tags": []
          },
          "execution_count": 22
        }
      ]
    },
    {
      "cell_type": "code",
      "metadata": {
        "id": "2egUpkNHy0TA",
        "colab_type": "code",
        "outputId": "898d2a4c-63ef-4158-d714-55126ba5d870",
        "colab": {}
      },
      "source": [
        "print(a*100)"
      ],
      "execution_count": 0,
      "outputs": [
        {
          "output_type": "stream",
          "text": [
            "파이썬 조아파이썬 조아파이썬 조아파이썬 조아파이썬 조아파이썬 조아파이썬 조아파이썬 조아파이썬 조아파이썬 조아파이썬 조아파이썬 조아파이썬 조아파이썬 조아파이썬 조아파이썬 조아파이썬 조아파이썬 조아파이썬 조아파이썬 조아파이썬 조아파이썬 조아파이썬 조아파이썬 조아파이썬 조아파이썬 조아파이썬 조아파이썬 조아파이썬 조아파이썬 조아파이썬 조아파이썬 조아파이썬 조아파이썬 조아파이썬 조아파이썬 조아파이썬 조아파이썬 조아파이썬 조아파이썬 조아파이썬 조아파이썬 조아파이썬 조아파이썬 조아파이썬 조아파이썬 조아파이썬 조아파이썬 조아파이썬 조아파이썬 조아파이썬 조아파이썬 조아파이썬 조아파이썬 조아파이썬 조아파이썬 조아파이썬 조아파이썬 조아파이썬 조아파이썬 조아파이썬 조아파이썬 조아파이썬 조아파이썬 조아파이썬 조아파이썬 조아파이썬 조아파이썬 조아파이썬 조아파이썬 조아파이썬 조아파이썬 조아파이썬 조아파이썬 조아파이썬 조아파이썬 조아파이썬 조아파이썬 조아파이썬 조아파이썬 조아파이썬 조아파이썬 조아파이썬 조아파이썬 조아파이썬 조아파이썬 조아파이썬 조아파이썬 조아파이썬 조아파이썬 조아파이썬 조아파이썬 조아파이썬 조아파이썬 조아파이썬 조아파이썬 조아파이썬 조아파이썬 조아파이썬 조아파이썬 조아\n"
          ],
          "name": "stdout"
        }
      ]
    },
    {
      "cell_type": "code",
      "metadata": {
        "id": "KVRVJ3Qpy0TC",
        "colab_type": "code",
        "outputId": "5aa3724a-f105-499e-da03-0eb3fcc9215e",
        "colab": {}
      },
      "source": [
        "name = input('너는 누구냐? : ')\n",
        "print(name+' 안녕')"
      ],
      "execution_count": 0,
      "outputs": [
        {
          "output_type": "stream",
          "text": [
            "너는 누구냐? : 샌ㄴ쥬\n",
            "샌ㄴ쥬 안녕\n"
          ],
          "name": "stdout"
        }
      ]
    },
    {
      "cell_type": "code",
      "metadata": {
        "id": "xEz7qLpsy0TE",
        "colab_type": "code",
        "outputId": "e65a6a5a-7fe4-49d9-8ecb-50a0df3f189d",
        "colab": {}
      },
      "source": [
        "type(name)"
      ],
      "execution_count": 0,
      "outputs": [
        {
          "output_type": "execute_result",
          "data": {
            "text/plain": [
              "str"
            ]
          },
          "metadata": {
            "tags": []
          },
          "execution_count": 28
        }
      ]
    },
    {
      "cell_type": "markdown",
      "metadata": {
        "id": "nmEzc5ygy0TG",
        "colab_type": "text"
      },
      "source": [
        "[문제은행_1]다음 문제를 입력하고 각각의 코드를 작성하시오."
      ]
    },
    {
      "cell_type": "code",
      "metadata": {
        "id": "vt_eGz67y0TH",
        "colab_type": "code",
        "outputId": "ed3a1e10-cea0-4a35-81f2-f731e18dc44e",
        "colab": {}
      },
      "source": [
        "#1번\n",
        "print('Python은 재미있고 쉽다.')"
      ],
      "execution_count": 0,
      "outputs": [
        {
          "output_type": "stream",
          "text": [
            "Python은 재미있고 쉽다.\n"
          ],
          "name": "stdout"
        }
      ]
    },
    {
      "cell_type": "code",
      "metadata": {
        "id": "gCuxXQ3_y0TJ",
        "colab_type": "code",
        "outputId": "09d22fdd-4141-4e5e-89fb-dc4047423f48",
        "colab": {}
      },
      "source": [
        "#2번\n",
        "print('Python'*100)"
      ],
      "execution_count": 0,
      "outputs": [
        {
          "output_type": "stream",
          "text": [
            "PythonPythonPythonPythonPythonPythonPythonPythonPythonPythonPythonPythonPythonPythonPythonPythonPythonPythonPythonPythonPythonPythonPythonPythonPythonPythonPythonPythonPythonPythonPythonPythonPythonPythonPythonPythonPythonPythonPythonPythonPythonPythonPythonPythonPythonPythonPythonPythonPythonPythonPythonPythonPythonPythonPythonPythonPythonPythonPythonPythonPythonPythonPythonPythonPythonPythonPythonPythonPythonPythonPythonPythonPythonPythonPythonPythonPythonPythonPythonPythonPythonPythonPythonPythonPythonPythonPythonPythonPythonPythonPythonPythonPythonPythonPythonPythonPythonPythonPythonPython\n"
          ],
          "name": "stdout"
        }
      ]
    },
    {
      "cell_type": "code",
      "metadata": {
        "id": "q3N8w7YNy0TL",
        "colab_type": "code",
        "outputId": "7940b290-3d5c-485a-d41d-e6be0229b836",
        "colab": {}
      },
      "source": [
        "#3번\n",
        "print('7 x 8 = ',7*8)"
      ],
      "execution_count": 0,
      "outputs": [
        {
          "output_type": "stream",
          "text": [
            "7 x 8 =  56\n"
          ],
          "name": "stdout"
        }
      ]
    },
    {
      "cell_type": "code",
      "metadata": {
        "id": "4uUDS3aIy0TN",
        "colab_type": "code",
        "outputId": "d01767f2-2910-4cf4-da93-ce2a6266caa5",
        "colab": {}
      },
      "source": [
        "#4번\n",
        "print('7 + 8 = ',7+8)\n",
        "print('7 - 8 = ',7-8)\n",
        "print('7 xx 8 = ',7**8)\n",
        "print('7 ÷ 8 = ',7/8)\n",
        "print('7 % 8 = ',7%8)\n",
        "print('7 ^ 8 = ',7^8)\n",
        "print('7 * 8 = ',7*8)\n",
        "print('7 ÷÷ 8 = ',7/8)"
      ],
      "execution_count": 0,
      "outputs": [
        {
          "output_type": "stream",
          "text": [
            "7 + 8 =  15\n",
            "7 - 8 =  -1\n",
            "7 xx 8 =  5764801\n",
            "7 ÷ 8 =  0.875\n",
            "7 % 8 =  7\n",
            "7 ^ 8 =  15\n",
            "7 * 8 =  56\n",
            "7 ÷÷ 8 =  0.875\n"
          ],
          "name": "stdout"
        }
      ]
    },
    {
      "cell_type": "code",
      "metadata": {
        "id": "U5TKnxNdy0TP",
        "colab_type": "code",
        "outputId": "5f4edbd4-3606-4a31-d9c1-b29faa7c397d",
        "colab": {}
      },
      "source": [
        "#5번\n",
        "name = input(\"당신의 이름은>>>\")\n",
        "print(name+' 님 안녕하세요.')"
      ],
      "execution_count": 0,
      "outputs": [
        {
          "output_type": "stream",
          "text": [
            "당신의 이름은>>>샌쥬\n",
            "샌쥬 님 안녕하세요.\n"
          ],
          "name": "stdout"
        }
      ]
    },
    {
      "cell_type": "code",
      "metadata": {
        "id": "JGWNqnSry0TQ",
        "colab_type": "code",
        "outputId": "aebd40d7-8fae-4bf9-d196-f2e8a1772b0a",
        "colab": {}
      },
      "source": [
        "#6번\n",
        "age = int(input(\"당신의 나이는 >>>\"))\n",
        "print(\"당신은 \",2021-age,\"년 도에 태어났군요~\")"
      ],
      "execution_count": 0,
      "outputs": [
        {
          "output_type": "stream",
          "text": [
            "당신의 나이는 >>>19\n",
            "당신은  2002 년 도에 태어났군요~\n"
          ],
          "name": "stdout"
        }
      ]
    },
    {
      "cell_type": "code",
      "metadata": {
        "id": "2EQ0jDAQy0TS",
        "colab_type": "code",
        "outputId": "40092f73-97db-4aa0-84d9-8423c8afdad0",
        "colab": {}
      },
      "source": [
        "#7번\n",
        "print(\"숫자 두개 입력\")\n",
        "a = int(input())\n",
        "b = int(input())\n",
        "print(a,' + ',b,' = ',a+b)\n",
        "print(a,' - ',b,' = ',a-b)\n",
        "print(a,' xx ',b,' = ',a**b)\n",
        "print(a,' ÷ ',b,' = ',a/b)\n",
        "print(a,' % ',b,' = ',a%b)\n",
        "print(a,' ^ ',b,' = ',a^b)\n",
        "print(a,' * ',b,' = ',a*b)\n",
        "print(a,' ÷÷ ',b,' = ',a/b)"
      ],
      "execution_count": 0,
      "outputs": [
        {
          "output_type": "stream",
          "text": [
            "숫자 두개 입력\n",
            "5\n",
            "5\n",
            "5  +  5  =  10\n",
            "5  -  5  =  0\n",
            "5  xx  5  =  3125\n",
            "5  ÷  5  =  1.0\n",
            "5  %  5  =  0\n",
            "5  ^  5  =  0\n",
            "5  *  5  =  25\n",
            "5  ÷÷  5  =  1.0\n"
          ],
          "name": "stdout"
        }
      ]
    },
    {
      "cell_type": "code",
      "metadata": {
        "id": "q2LsP2rBy0TU",
        "colab_type": "code",
        "outputId": "aa557fed-a337-4a1c-b5c0-eb08ddc9e4e5",
        "colab": {}
      },
      "source": [
        "#8번\n",
        "a = '인천정보산업고등학교'\n",
        "print(\"학교명 : \",a[:6])\n",
        "print(\"학교명 : \",a[6:])"
      ],
      "execution_count": 0,
      "outputs": [
        {
          "output_type": "stream",
          "text": [
            "학교명 :  인천정보산업\n",
            "학교명 :  고등학교\n"
          ],
          "name": "stdout"
        }
      ]
    },
    {
      "cell_type": "code",
      "metadata": {
        "id": "XdAC1RV0y0TX",
        "colab_type": "code",
        "outputId": "36a9c793-cfff-4d0f-d723-d577685835ff",
        "colab": {}
      },
      "source": [
        "#9번 \n",
        "a='아버지가방에들어가신다'\n",
        "print(a[:4],a[4:6],a[6:])"
      ],
      "execution_count": 0,
      "outputs": [
        {
          "output_type": "stream",
          "text": [
            "아버지가 방에 들어가신다\n"
          ],
          "name": "stdout"
        }
      ]
    },
    {
      "cell_type": "code",
      "metadata": {
        "id": "HRwTIQn3y0TZ",
        "colab_type": "code",
        "outputId": "59285f5e-991e-400c-a4d7-74a4011b2cd0",
        "colab": {}
      },
      "source": [
        "#10번\n",
        "license_plate=\"24가 2219\"\n",
        "print(license_plate[4:])"
      ],
      "execution_count": 0,
      "outputs": [
        {
          "output_type": "stream",
          "text": [
            "2219\n"
          ],
          "name": "stdout"
        }
      ]
    },
    {
      "cell_type": "code",
      "metadata": {
        "id": "xhHAPF6ny0Ta",
        "colab_type": "code",
        "outputId": "0e1318fc-10ee-441b-e18b-2b4254ccdda6",
        "colab": {}
      },
      "source": [
        "#11번\n",
        "string = \"홀짝홀짝홀짝\"\n",
        "print(string[0],string[2],string[4])"
      ],
      "execution_count": 0,
      "outputs": [
        {
          "output_type": "stream",
          "text": [
            "홀 홀 홀\n"
          ],
          "name": "stdout"
        }
      ]
    },
    {
      "cell_type": "code",
      "metadata": {
        "id": "ZhIV5ZY4y0Tc",
        "colab_type": "code",
        "outputId": "42a27bcd-ad5f-4fbc-88eb-82622279b57a",
        "colab": {}
      },
      "source": [
        "#12번\n",
        "n = 235000\n",
        "k = 266000\n",
        "print(\"가지고 있는 주식의 수 입력\")\n",
        "pn = int(input(\"네이버 주식 : \"))\n",
        "pk = int(input(\"카카오 주식 : \"))\n",
        "p = ((n*pn)+(k*pk))\n",
        "print(\"총액 : \",p)"
      ],
      "execution_count": 0,
      "outputs": [
        {
          "output_type": "stream",
          "text": [
            "가지고 있는 주식의 수 입력\n",
            "네이버 주식 : 100\n",
            "카카오 주식 : 50\n",
            "총액 :  36800000\n"
          ],
          "name": "stdout"
        }
      ]
    },
    {
      "cell_type": "code",
      "metadata": {
        "id": "9sQYM4MFy0Td",
        "colab_type": "code",
        "outputId": "4934e839-a572-4ee2-ba41-50fc1187c88c",
        "colab": {}
      },
      "source": [
        "#13번\n",
        "dn = n-(n*(5/100))\n",
        "dk = k-(k*(10/100))\n",
        "dp = ((dn*pn)+(dk*pk))\n",
        "print(\"총손실액 : \",int(p-dp))"
      ],
      "execution_count": 0,
      "outputs": [
        {
          "output_type": "stream",
          "text": [
            "총손실액 :  2505000\n"
          ],
          "name": "stdout"
        }
      ]
    }
  ]
}