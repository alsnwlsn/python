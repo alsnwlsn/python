{
  "nbformat": 4,
  "nbformat_minor": 0,
  "metadata": {
    "colab": {
      "name": "5일차_1교시.ipynb",
      "provenance": [],
      "authorship_tag": "ABX9TyP7+c8r36AY851z0Sp9hTs8",
      "include_colab_link": true
    },
    "kernelspec": {
      "name": "python3",
      "display_name": "Python 3"
    }
  },
  "cells": [
    {
      "cell_type": "markdown",
      "metadata": {
        "id": "view-in-github",
        "colab_type": "text"
      },
      "source": [
        "<a href=\"https://colab.research.google.com/github/alsnwlsn/python/blob/master/5%EC%9D%BC%EC%B0%A8_1%EA%B5%90%EC%8B%9C.ipynb\" target=\"_parent\"><img src=\"https://colab.research.google.com/assets/colab-badge.svg\" alt=\"Open In Colab\"/></a>"
      ]
    },
    {
      "cell_type": "code",
      "metadata": {
        "id": "sHMR9ExI4J9y",
        "colab_type": "code",
        "colab": {
          "base_uri": "https://localhost:8080/",
          "height": 36
        },
        "outputId": "1c0f3313-492d-420d-8b90-5163b952bb9a"
      },
      "source": [
        "for i in range(1,11,2) :\n",
        "  print(i ,end=' ')"
      ],
      "execution_count": 2,
      "outputs": [
        {
          "output_type": "stream",
          "text": [
            "1 3 5 7 9 "
          ],
          "name": "stdout"
        }
      ]
    },
    {
      "cell_type": "code",
      "metadata": {
        "id": "B4A9Emdn6D6l",
        "colab_type": "code",
        "colab": {
          "base_uri": "https://localhost:8080/",
          "height": 36
        },
        "outputId": "3075fb3f-83e6-47da-e7e5-36dab7bdc816"
      },
      "source": [
        "i=1\n",
        "while(i<11):\n",
        "  print(i,end=' ')\n",
        "  i+=1\n",
        "  if i<7 :\n",
        "    continue\n",
        "  break"
      ],
      "execution_count": 24,
      "outputs": [
        {
          "output_type": "stream",
          "text": [
            "1 2 3 4 5 6 "
          ],
          "name": "stdout"
        }
      ]
    },
    {
      "cell_type": "code",
      "metadata": {
        "id": "ukLl-Jw-6bcm",
        "colab_type": "code",
        "colab": {
          "base_uri": "https://localhost:8080/",
          "height": 36
        },
        "outputId": "f03a2f00-1423-47fc-fc97-418e460dae9b"
      },
      "source": [
        "num =list(range(10,110,10))\n",
        "num"
      ],
      "execution_count": 9,
      "outputs": [
        {
          "output_type": "execute_result",
          "data": {
            "text/plain": [
              "[10, 20, 30, 40, 50, 60, 70, 80, 90, 100]"
            ]
          },
          "metadata": {
            "tags": []
          },
          "execution_count": 9
        }
      ]
    },
    {
      "cell_type": "code",
      "metadata": {
        "id": "AC-SfpBd65MS",
        "colab_type": "code",
        "colab": {
          "base_uri": "https://localhost:8080/",
          "height": 36
        },
        "outputId": "86742429-e231-4d03-b6c3-382c0000f868"
      },
      "source": [
        "a=0\n",
        "while(a<len(num)):\n",
        "  print(num[a],end=' ')\n",
        "  a+=1"
      ],
      "execution_count": 13,
      "outputs": [
        {
          "output_type": "stream",
          "text": [
            "10 20 30 40 50 60 70 80 90 100 "
          ],
          "name": "stdout"
        }
      ]
    },
    {
      "cell_type": "code",
      "metadata": {
        "id": "z9e7878C7Zl6",
        "colab_type": "code",
        "colab": {
          "base_uri": "https://localhost:8080/",
          "height": 111
        },
        "outputId": "2939a146-dfa9-49ab-9f2c-cf7c0d7170c6"
      },
      "source": [
        "l = ['라','햄','김','돈','자']\n",
        "i=0\n",
        "while(i<len(l)):\n",
        "  print(l[i])\n",
        "  i+=1"
      ],
      "execution_count": 15,
      "outputs": [
        {
          "output_type": "stream",
          "text": [
            "라\n",
            "햄\n",
            "김\n",
            "돈\n",
            "자\n"
          ],
          "name": "stdout"
        }
      ]
    },
    {
      "cell_type": "code",
      "metadata": {
        "id": "H2ppOJi07-nj",
        "colab_type": "code",
        "colab": {
          "base_uri": "https://localhost:8080/",
          "height": 36
        },
        "outputId": "865e8072-2fa1-43a5-864c-e9811fe22c91"
      },
      "source": [
        "l.sort()\n",
        "l"
      ],
      "execution_count": 19,
      "outputs": [
        {
          "output_type": "execute_result",
          "data": {
            "text/plain": [
              "['김', '돈', '라', '자', '햄']"
            ]
          },
          "metadata": {
            "tags": []
          },
          "execution_count": 19
        }
      ]
    },
    {
      "cell_type": "code",
      "metadata": {
        "id": "GUwFfhVF8V4S",
        "colab_type": "code",
        "colab": {
          "base_uri": "https://localhost:8080/",
          "height": 36
        },
        "outputId": "16929785-f9f2-45bb-d3fc-cd8f875cde7b"
      },
      "source": [
        "l.reverse()\n",
        "l"
      ],
      "execution_count": 21,
      "outputs": [
        {
          "output_type": "execute_result",
          "data": {
            "text/plain": [
              "['김', '돈', '라', '자', '햄']"
            ]
          },
          "metadata": {
            "tags": []
          },
          "execution_count": 21
        }
      ]
    },
    {
      "cell_type": "code",
      "metadata": {
        "id": "85e5WH9y8iDx",
        "colab_type": "code",
        "colab": {
          "base_uri": "https://localhost:8080/",
          "height": 36
        },
        "outputId": "c6b61077-b5c1-4d8e-a3d6-4f37018b5410"
      },
      "source": [
        "import random as r\n",
        "r.shuffle(l)\n",
        "l"
      ],
      "execution_count": 25,
      "outputs": [
        {
          "output_type": "execute_result",
          "data": {
            "text/plain": [
              "['돈', '자', '라', '김', '햄']"
            ]
          },
          "metadata": {
            "tags": []
          },
          "execution_count": 25
        }
      ]
    },
    {
      "cell_type": "code",
      "metadata": {
        "id": "t1faRjYx9eAA",
        "colab_type": "code",
        "colab": {
          "base_uri": "https://localhost:8080/",
          "height": 71
        },
        "outputId": "3f378e3c-b48c-4764-d34c-4a0a11a7f100"
      },
      "source": [
        "num =list(range(10,110,10))\n",
        "i=0\n",
        "sum=0\n",
        "while(i<len(num)) :\n",
        "  if num[i] == 50 :\n",
        "    i+=1\n",
        "    continue\n",
        "  if num[i] > 80 :\n",
        "    break\n",
        "  print(num[i],end=' ')\n",
        "  sum+=int(num[i])\n",
        "  i+=1\n",
        "print('\\n합계 ',sum,'\\n평균 ',sum/(i-1))"
      ],
      "execution_count": 62,
      "outputs": [
        {
          "output_type": "stream",
          "text": [
            "10 20 30 40 60 70 80 \n",
            "합계  310 \n",
            "평균  44.285714285714285\n"
          ],
          "name": "stdout"
        }
      ]
    },
    {
      "cell_type": "code",
      "metadata": {
        "id": "8YHocS83Hm1G",
        "colab_type": "code",
        "colab": {
          "base_uri": "https://localhost:8080/",
          "height": 35
        },
        "outputId": "864ace09-d5dc-4ba9-ccfe-171c9575bf59"
      },
      "source": [
        "q = input(\"입력 : \")\n",
        "while q!='exit' :\n",
        "  print('입력값 : ',q)\n",
        "  q = input(\"입력 : \")"
      ],
      "execution_count": 66,
      "outputs": [
        {
          "output_type": "stream",
          "text": [
            "입력 : exit\n"
          ],
          "name": "stdout"
        }
      ]
    },
    {
      "cell_type": "code",
      "metadata": {
        "id": "FtzzPQ0wIwm_",
        "colab_type": "code",
        "colab": {
          "base_uri": "https://localhost:8080/",
          "height": 53
        },
        "outputId": "fdbd1437-bad8-4357-9d16-d1332917a45a"
      },
      "source": [
        "b = input(\"id 입력 : \")\n",
        "if b=='injungsan' :\n",
        "  print(\"로그인 완료\")\n",
        "else :\n",
        "  print(\"회원가입 하세요\")"
      ],
      "execution_count": 69,
      "outputs": [
        {
          "output_type": "stream",
          "text": [
            "id 입력 : injungsan\n",
            "로그인 완료\n"
          ],
          "name": "stdout"
        }
      ]
    }
  ]
}