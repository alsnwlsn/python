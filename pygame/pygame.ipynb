{
 "cells": [
  {
   "cell_type": "code",
   "execution_count": 1,
   "metadata": {},
   "outputs": [
    {
     "name": "stdout",
     "output_type": "stream",
     "text": [
      "Collecting pygame\n",
      "  Downloading https://files.pythonhosted.org/packages/ed/56/b63ab3724acff69f4080e54c4bc5f55d1fbdeeb19b92b70acf45e88a5908/pygame-1.9.6-cp37-cp37m-win_amd64.whl (4.3MB)\n",
      "Installing collected packages: pygame\n",
      "Successfully installed pygame-1.9.6\n",
      "Note: you may need to restart the kernel to use updated packages.\n"
     ]
    }
   ],
   "source": [
    "pip install pygame"
   ]
  },
  {
   "cell_type": "code",
   "execution_count": 2,
   "metadata": {},
   "outputs": [
    {
     "ename": "SystemExit",
     "evalue": "",
     "output_type": "error",
     "traceback": [
      "An exception has occurred, use %tb to see the full traceback.\n",
      "\u001b[1;31mSystemExit\u001b[0m\n"
     ]
    },
    {
     "name": "stderr",
     "output_type": "stream",
     "text": [
      "C:\\Users\\user\\Anaconda3\\lib\\site-packages\\IPython\\core\\interactiveshell.py:3334: UserWarning: To exit: use 'exit', 'quit', or Ctrl-D.\n",
      "  warn(\"To exit: use 'exit', 'quit', or Ctrl-D.\", stacklevel=1)\n"
     ]
    }
   ],
   "source": [
    "#흰바탕\n",
    "import sys\n",
    "import pygame\n",
    "from pygame.locals import QUIT\n",
    "pygame.init()\n",
    "\n",
    "SURFACE = pygame.display.set_mode((400,300))\n",
    "pygame.display.set_caption('Game Window')\n",
    "\n",
    "def main() :\n",
    "    while True:\n",
    "        SURFACE.fill((255,255,255))\n",
    "        for event in pygame.event.get():\n",
    "            if event.type == QUIT :\n",
    "                pygame.quit()\n",
    "                sys.exit()\n",
    "            pygame.display.update()\n",
    "if __name__=='__main__':\n",
    "    main()"
   ]
  },
  {
   "cell_type": "code",
   "execution_count": 3,
   "metadata": {},
   "outputs": [
    {
     "ename": "SystemExit",
     "evalue": "",
     "output_type": "error",
     "traceback": [
      "An exception has occurred, use %tb to see the full traceback.\n",
      "\u001b[1;31mSystemExit\u001b[0m\n"
     ]
    }
   ],
   "source": [
    "#흰바탕 ,hello python\n",
    "import sys\n",
    "import pygame\n",
    "from pygame.locals import QUIT\n",
    "pygame.init()\n",
    "\n",
    "SURFACE = pygame.display.set_mode((400,300))\n",
    "pygame.display.set_caption('Game Window')\n",
    "\n",
    "def main() :\n",
    "    sysfont = pygame.font.SysFont(None, 72)\n",
    "    message1 = sysfont.render('Hello Python',True,(0, 128, 128))\n",
    "    \n",
    "    message1_rect = message1.get_rect()\n",
    "    message1_rect.center = (200,100)\n",
    "    \n",
    "    while True:\n",
    "        SURFACE.fill((255,255,255))\n",
    "        for event in pygame.event.get():\n",
    "            if event.type == QUIT :\n",
    "                pygame.quit()\n",
    "                sys.exit()\n",
    "            SURFACE.blit(message1,message1_rect)\n",
    "            pygame.display.update()\n",
    "if __name__=='__main__':\n",
    "    main()"
   ]
  },
  {
   "cell_type": "code",
   "execution_count": 4,
   "metadata": {},
   "outputs": [
    {
     "ename": "SystemExit",
     "evalue": "",
     "output_type": "error",
     "traceback": [
      "An exception has occurred, use %tb to see the full traceback.\n",
      "\u001b[1;31mSystemExit\u001b[0m\n"
     ]
    }
   ],
   "source": [
    "#흰바탕 ,hello ok python\n",
    "import sys\n",
    "import pygame\n",
    "from pygame.locals import QUIT\n",
    "pygame.init()\n",
    "\n",
    "SURFACE = pygame.display.set_mode((400,300))\n",
    "pygame.display.set_caption('Game Window')\n",
    "\n",
    "def main() :\n",
    "    sysfont = pygame.font.SysFont(None, 72)\n",
    "    message1 = sysfont.render('Hello Python',True,(150, 255, 128))\n",
    "    message2 = sysfont.render('OK! Pyton',True,(150,240,128))\n",
    "    \n",
    "    message1_rect = message1.get_rect()\n",
    "    message1_rect.center = (200,100)\n",
    "    message2_rect = message2.get_rect()\n",
    "    message2_rect.center = (200,150)\n",
    "    \n",
    "    while True:\n",
    "        SURFACE.fill((255,255,255))\n",
    "        for event in pygame.event.get():\n",
    "            if event.type == QUIT :\n",
    "                pygame.quit()\n",
    "                sys.exit()\n",
    "            SURFACE.blit(message1,message1_rect)\n",
    "            SURFACE.blit(message2,message2_rect)\n",
    "            pygame.display.update()\n",
    "if __name__=='__main__':\n",
    "    main()"
   ]
  },
  {
   "cell_type": "code",
   "execution_count": 5,
   "metadata": {},
   "outputs": [
    {
     "ename": "SystemExit",
     "evalue": "",
     "output_type": "error",
     "traceback": [
      "An exception has occurred, use %tb to see the full traceback.\n",
      "\u001b[1;31mSystemExit\u001b[0m\n"
     ]
    }
   ],
   "source": [
    "#카운터\n",
    "import sys\n",
    "import pygame\n",
    "from pygame.locals import QUIT\n",
    "pygame.init()\n",
    "\n",
    "SURFACE = pygame.display.set_mode((400,300))\n",
    "pygame.display.set_caption('Game Window')\n",
    "\n",
    "def main() :\n",
    "    sysfont = pygame.font.SysFont(None,36)\n",
    "    counter = 0\n",
    "    count_image = sysfont.render('Counter is {}'.format(counter),True,(0,0,0))\n",
    "    while True:\n",
    "        SURFACE.fill((255,255,255))\n",
    "        for event in pygame.event.get():\n",
    "            if event.type == QUIT :\n",
    "                pygame.quit()\n",
    "                sys.exit()\n",
    "            SURFACE.blit(count_image,(50,50))\n",
    "            pygame.display.update()\n",
    "if __name__=='__main__':\n",
    "    main()"
   ]
  },
  {
   "cell_type": "code",
   "execution_count": 17,
   "metadata": {},
   "outputs": [
    {
     "ename": "SystemExit",
     "evalue": "",
     "output_type": "error",
     "traceback": [
      "An exception has occurred, use %tb to see the full traceback.\n",
      "\u001b[1;31mSystemExit\u001b[0m\n"
     ]
    }
   ],
   "source": [
    "#네모\n",
    "import sys\n",
    "import pygame\n",
    "from pygame.locals import QUIT,Rect\n",
    "pygame.init()\n",
    "\n",
    "SURFACE = pygame.display.set_mode((400,300))\n",
    "pygame.display.set_caption('Game Window')\n",
    "\n",
    "def main() :\n",
    "    r = Rect(30,20,60,40)\n",
    "    r.center\n",
    "    r.bottomleft\n",
    "    r.width\n",
    "    r.move(100,100)\n",
    "    \n",
    "    r.move_ip(100,100)\n",
    "    while True:\n",
    "        SURFACE.fill((255,255,255))\n",
    "        for event in pygame.event.get():\n",
    "            if event.type == QUIT :\n",
    "                pygame.quit()\n",
    "                sys.exit()\n",
    "            pygame.draw.rect(SURFACE,(255,0,0),(100,100,200,200))\n",
    "            pygame.draw.rect(SURFACE,(0,255,0),(50,50,100,100),3)\n",
    "            pygame.draw.rect(SURFACE,(0,0,255),((100,80),(80,50)))\n",
    "            \n",
    "            rect0 = Rect(200,60,140,80)\n",
    "            pygame.draw.rect(SURFACE,(255,255,0),rect0)\n",
    "            pygame.display.update()\n",
    "if __name__=='__main__':\n",
    "    main()"
   ]
  },
  {
   "cell_type": "code",
   "execution_count": 9,
   "metadata": {},
   "outputs": [
    {
     "ename": "SystemExit",
     "evalue": "",
     "output_type": "error",
     "traceback": [
      "An exception has occurred, use %tb to see the full traceback.\n",
      "\u001b[1;31mSystemExit\u001b[0m\n"
     ]
    }
   ],
   "source": [
    "#직선\n",
    "import sys\n",
    "import pygame\n",
    "from pygame.locals import QUIT,Rect\n",
    "pygame.init()\n",
    "\n",
    "SURFACE = pygame.display.set_mode((400,300))\n",
    "pygame.display.set_caption('Game Window')\n",
    "\n",
    "def main() :\n",
    "    r = Rect(30,20,60,40)\n",
    "    r.center\n",
    "    r.bottomleft\n",
    "    r.width\n",
    "    r.move(100,100)\n",
    "    \n",
    "    r.move_ip(100,100)\n",
    "    while True:\n",
    "        SURFACE.fill((255,255,255))\n",
    "        for event in pygame.event.get():\n",
    "            if event.type == QUIT :\n",
    "                pygame.quit()\n",
    "                sys.exit()\n",
    "            pygame.draw.line(SURFACE,(255,0,0),(10,80),(200,80))\n",
    "            pygame.draw.line(SURFACE,(0,0,255),(10,150),(200,150),15)\n",
    "            pygame.draw.line(SURFACE,(0,255,0),(250,30),(250,200),30)\n",
    "            pygame.display.update()\n",
    "if __name__=='__main__':\n",
    "    main()"
   ]
  },
  {
   "cell_type": "code",
   "execution_count": 16,
   "metadata": {},
   "outputs": [
    {
     "ename": "SystemExit",
     "evalue": "",
     "output_type": "error",
     "traceback": [
      "An exception has occurred, use %tb to see the full traceback.\n",
      "\u001b[1;31mSystemExit\u001b[0m\n"
     ]
    }
   ],
   "source": [
    "#원\n",
    "import sys\n",
    "import pygame\n",
    "from pygame.locals import QUIT,Rect\n",
    "pygame.init()\n",
    "\n",
    "SURFACE = pygame.display.set_mode((400,300))\n",
    "pygame.display.set_caption('Game Window')\n",
    "\n",
    "def main() :\n",
    "    r = Rect(30,20,60,40)\n",
    "    r.center\n",
    "    r.bottomleft\n",
    "    r.width\n",
    "    r.move(100,100)\n",
    "    \n",
    "    r.move_ip(100,100)\n",
    "    while True:\n",
    "        SURFACE.fill((255,255,255))\n",
    "        for event in pygame.event.get():\n",
    "            if event.type == QUIT :\n",
    "                pygame.quit()\n",
    "                sys.exit()\n",
    "            pygame.draw.circle(SURFACE,(255,0,255),(50,250),10)\n",
    "            pygame.draw.circle(SURFACE,(0,255,0),(150,250),20)\n",
    "            pygame.draw.circle(SURFACE,(255,255,0),(250,250),30)\n",
    "            pygame.draw.circle(SURFACE,(155,255,255),(50,50),20)\n",
    "            pygame.draw.circle(SURFACE,(55,155,255),(150,50),20,3)\n",
    "            pygame.display.update()\n",
    "if __name__=='__main__':\n",
    "    main()"
   ]
  },
  {
   "cell_type": "code",
   "execution_count": 45,
   "metadata": {},
   "outputs": [
    {
     "ename": "SystemExit",
     "evalue": "",
     "output_type": "error",
     "traceback": [
      "An exception has occurred, use %tb to see the full traceback.\n",
      "\u001b[1;31mSystemExit\u001b[0m\n"
     ]
    }
   ],
   "source": [
    "#격자선\n",
    "import sys\n",
    "import pygame\n",
    "import random\n",
    "from pygame.locals import QUIT,Rect\n",
    "pygame.init()\n",
    "\n",
    "SURFACE = pygame.display.set_mode((400,300))\n",
    "pygame.display.set_caption('Game Window')\n",
    "\n",
    "def main() :\n",
    "    r = Rect(30,20,60,40)\n",
    "    r.center\n",
    "    r.bottomleft\n",
    "    r.width\n",
    "    r.move(100,100)\n",
    "    r.move_ip(100,100)\n",
    "    while True:\n",
    "        SURFACE.fill((0,0,0))\n",
    "        for event in pygame.event.get():\n",
    "            if event.type == QUIT :\n",
    "                pygame.quit()\n",
    "                sys.exit()\n",
    "            for x in range(25,300,25) :\n",
    "                pygame.draw.line(SURFACE,(random.randrange(256),random.randrange(256),random.randrange(256)),(0,x),(400,x),1)\n",
    "            for y in range(25,400,25):\n",
    "                pygame.draw.line(SURFACE,(random.randrange(256),random.randrange(256),random.randrange(256)),(y,0),(y,300),1)\n",
    "            pygame.display.update()\n",
    "if __name__=='__main__':\n",
    "    main()"
   ]
  },
  {
   "cell_type": "code",
   "execution_count": 14,
   "metadata": {},
   "outputs": [
    {
     "ename": "SystemExit",
     "evalue": "",
     "output_type": "error",
     "traceback": [
      "An exception has occurred, use %tb to see the full traceback.\n",
      "\u001b[1;31mSystemExit\u001b[0m\n"
     ]
    }
   ],
   "source": [
    "#이미지 움직이기\n",
    "import sys\n",
    "import pygame\n",
    "from pygame.locals import QUIT,KEYDOWN,K_LEFT,K_RIGHT,K_UP,K_DOWN\n",
    "pygame.init()\n",
    "\n",
    "SURFACE = pygame.display.set_mode((400,300))\n",
    "pygame.display.set_caption('Game Window')\n",
    "pygame.key.set_repeat(5,5)\n",
    "\n",
    "def main() :\n",
    "    logo = pygame.image.load('logo.png')\n",
    "    pos = [200,150]\n",
    "    while True:\n",
    "        SURFACE.fill((255,255,255))\n",
    "        for event in pygame.event.get():\n",
    "            if event.type == QUIT :\n",
    "                pygame.quit()\n",
    "                sys.exit()\n",
    "            elif event.type == KEYDOWN:\n",
    "                if event.key == K_LEFT:\n",
    "                    pos[0] -= 5\n",
    "                elif event.key == K_RIGHT:\n",
    "                    pos[0] += 5\n",
    "                elif event.key == K_UP:\n",
    "                    pos[1] -= 5\n",
    "                elif event.key == K_DOWN:\n",
    "                    pos[1] += 5\n",
    "            pos[0] = pos[0] % 400\n",
    "            pos[1] = pos[1] % 300\n",
    "            \n",
    "            SURFACE.fill((255,255,255))\n",
    "            \n",
    "            rect = logo.get_rect()\n",
    "            rect.center = pos\n",
    "            \n",
    "            SURFACE.blit(logo,rect)\n",
    "            \n",
    "            pygame.display.update()\n",
    "if __name__=='__main__':\n",
    "    main()"
   ]
  }
 ],
 "metadata": {
  "kernelspec": {
   "display_name": "Python 3",
   "language": "python",
   "name": "python3"
  },
  "language_info": {
   "codemirror_mode": {
    "name": "ipython",
    "version": 3
   },
   "file_extension": ".py",
   "mimetype": "text/x-python",
   "name": "python",
   "nbconvert_exporter": "python",
   "pygments_lexer": "ipython3",
   "version": "3.7.4"
  }
 },
 "nbformat": 4,
 "nbformat_minor": 2
}
