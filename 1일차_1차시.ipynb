{
  "nbformat": 4,
  "nbformat_minor": 0,
  "metadata": {
    "colab": {
      "name": "1일차_1차시.ipynb",
      "provenance": [],
      "authorship_tag": "ABX9TyOiCSqK6oEWwOQjy3VmnbZP",
      "include_colab_link": true
    },
    "kernelspec": {
      "name": "python3",
      "display_name": "Python 3"
    }
  },
  "cells": [
    {
      "cell_type": "markdown",
      "metadata": {
        "id": "view-in-github",
        "colab_type": "text"
      },
      "source": [
        "<a href=\"https://colab.research.google.com/github/alsnwlsn/python/blob/master/1%EC%9D%BC%EC%B0%A8_1%EC%B0%A8%EC%8B%9C.ipynb\" target=\"_parent\"><img src=\"https://colab.research.google.com/assets/colab-badge.svg\" alt=\"Open In Colab\"/></a>"
      ]
    },
    {
      "cell_type": "markdown",
      "metadata": {
        "id": "9VxfaJxC3H1v",
        "colab_type": "text"
      },
      "source": [
        "오늘은 1일차 1교시 출력문 작성\n"
      ]
    },
    {
      "cell_type": "markdown",
      "metadata": {
        "id": "QO0xuZeV3aCb",
        "colab_type": "text"
      },
      "source": [
        "---\n"
      ]
    },
    {
      "cell_type": "code",
      "metadata": {
        "id": "RYexxA4v3v6q",
        "colab_type": "code",
        "colab": {
          "base_uri": "https://localhost:8080/",
          "height": 35
        },
        "outputId": "76213c45-c05f-4601-d4b1-e65991226283"
      },
      "source": [
        "print('인천정보산업고')"
      ],
      "execution_count": 1,
      "outputs": [
        {
          "output_type": "stream",
          "text": [
            "인천정보산업고\n"
          ],
          "name": "stdout"
        }
      ]
    },
    {
      "cell_type": "code",
      "metadata": {
        "id": "4lIwwv5E4BUo",
        "colab_type": "code",
        "colab": {
          "base_uri": "https://localhost:8080/",
          "height": 35
        },
        "outputId": "de4a5638-e505-430c-ff69-cf38221d0eb4"
      },
      "source": [
        "a=1\n",
        "b=2\n",
        "a\n",
        "b\n",
        "print(a,b)"
      ],
      "execution_count": 2,
      "outputs": [
        {
          "output_type": "stream",
          "text": [
            "1 2\n"
          ],
          "name": "stdout"
        }
      ]
    },
    {
      "cell_type": "code",
      "metadata": {
        "id": "DxIaG4-i4PUt",
        "colab_type": "code",
        "colab": {
          "base_uri": "https://localhost:8080/",
          "height": 35
        },
        "outputId": "c7a9e736-d0a7-4553-8fa3-334624286a79"
      },
      "source": [
        "print('좋아'*3)"
      ],
      "execution_count": 3,
      "outputs": [
        {
          "output_type": "stream",
          "text": [
            "좋아좋아좋아\n"
          ],
          "name": "stdout"
        }
      ]
    },
    {
      "cell_type": "markdown",
      "metadata": {
        "id": "tNrwOY994c1Y",
        "colab_type": "text"
      },
      "source": [
        "사칙연산\n",
        "\n",
        "```\n",
        "# +,-,*,**,/,//,%\n",
        "```\n",
        "\n"
      ]
    },
    {
      "cell_type": "code",
      "metadata": {
        "id": "J0LEymM04si8",
        "colab_type": "code",
        "colab": {
          "base_uri": "https://localhost:8080/",
          "height": 143
        },
        "outputId": "9b1f784a-050f-4e51-d6d5-2022beb24b0e"
      },
      "source": [
        "a=3\n",
        "b=2\n",
        "print('a + b =',a+b)\n",
        "print('a - b =',a-b)\n",
        "print('a * b =',a*b)\n",
        "print('a ** b =',a**b)\n",
        "print('a / b =',a/b)\n",
        "print('a // b =',a//b)\n",
        "print('a % b =',a%b)"
      ],
      "execution_count": 6,
      "outputs": [
        {
          "output_type": "stream",
          "text": [
            "a + b = 5\n",
            "a - b = 1\n",
            "a * b = 6\n",
            "a ** b = 9\n",
            "a / b = 1.5\n",
            "a // b = 1\n",
            "a % b = 1\n"
          ],
          "name": "stdout"
        }
      ]
    }
  ]
}