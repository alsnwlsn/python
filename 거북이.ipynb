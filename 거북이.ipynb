{
 "cells": [
  {
   "cell_type": "markdown",
   "metadata": {},
   "source": [
    "### 거북이로 그림그리기"
   ]
  },
  {
   "cell_type": "code",
   "execution_count": null,
   "metadata": {},
   "outputs": [],
   "source": [
    "from turtle import *\n",
    "color('red', 'yellow')\n",
    "begin_fill()\n",
    "while True:\n",
    "    forward(200)\n",
    "    left(170)\n",
    "    if abs(pos()) < 1:\n",
    "        break\n",
    "end_fill()\n",
    "done()"
   ]
  },
  {
   "cell_type": "code",
   "execution_count": 1,
   "metadata": {},
   "outputs": [],
   "source": [
    "#삼각형\n",
    "import turtle as t\n",
    "t.speed(0.1)\n",
    "t.color('cyan', 'black')\n",
    "t.begin_fill()\n",
    "for i in range(0,3) :\n",
    "    t.fd(100)\n",
    "    t.left(120)\n",
    "t.end_fill()\n",
    "t.exitonclick()"
   ]
  },
  {
   "cell_type": "code",
   "execution_count": null,
   "metadata": {},
   "outputs": [],
   "source": [
    "#사각형\n",
    "import turtle as t\n",
    "for i in range(0,4) :\n",
    "    t.fd(100)\n",
    "    t.left(90)\n",
    "t.exitonclick()"
   ]
  },
  {
   "cell_type": "code",
   "execution_count": null,
   "metadata": {},
   "outputs": [],
   "source": [
    "#육각형\n",
    "import turtle as t\n",
    "t.color('skyblue', 'red')\n",
    "t.begin_fill()\n",
    "for i in range(0,6) :\n",
    "    t.fd(100)\n",
    "    t.left(60)\n",
    "t.end_fill()\n",
    "t.exitonclick()"
   ]
  },
  {
   "cell_type": "code",
   "execution_count": 1,
   "metadata": {},
   "outputs": [
    {
     "name": "stdout",
     "output_type": "stream",
     "text": [
      "몇각형? : 10\n"
     ]
    }
   ],
   "source": [
    "import turtle as t\n",
    "a = int(input(\"몇각형? : \"))\n",
    "t.speed(1)\n",
    "t.color('blue', 'black')\n",
    "t.begin_fill()\n",
    "for i in range(a) :\n",
    "    t.fd(100)\n",
    "    t.left(360/a)\n",
    "t.end_fill()\n",
    "t.exitonclick()"
   ]
  },
  {
   "cell_type": "code",
   "execution_count": 1,
   "metadata": {},
   "outputs": [],
   "source": [
    "#작품\n",
    "import turtle as t\n",
    "t.speed(0)\n",
    "t.color('skyblue')\n",
    "for i in range(300) :\n",
    "    t.fd(i)\n",
    "    t.left(i)\n",
    "t.color('red')\n",
    "for i in range(0,-300,-1) :\n",
    "    t.fd(i)\n",
    "    t.left(i)\n",
    "t.color('yellow')\n",
    "for i in range(300) :\n",
    "    t.fd(i)\n",
    "    t.left(i)\n",
    "t.setx(-300)\n",
    "t.color('orange')\n",
    "for i in range(0,-300,-1) :\n",
    "    t.fd(i)\n",
    "    t.left(i)\n",
    "t.color('lightgreen')\n",
    "for i in range(300) :\n",
    "    t.fd(i)\n",
    "    t.left(i)\n",
    "t.sety(-300)\n",
    "t.setx(-90)\n",
    "t.color('black')\n",
    "for i in range(300) :\n",
    "    t.fd(i)\n",
    "    t.left(i)\n",
    "t.exitonclick()"
   ]
  }
 ],
 "metadata": {
  "kernelspec": {
   "display_name": "Python 3",
   "language": "python",
   "name": "python3"
  },
  "language_info": {
   "codemirror_mode": {
    "name": "ipython",
    "version": 3
   },
   "file_extension": ".py",
   "mimetype": "text/x-python",
   "name": "python",
   "nbconvert_exporter": "python",
   "pygments_lexer": "ipython3",
   "version": "3.7.4"
  }
 },
 "nbformat": 4,
 "nbformat_minor": 2
}
