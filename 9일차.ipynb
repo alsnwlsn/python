{
  "nbformat": 4,
  "nbformat_minor": 0,
  "metadata": {
    "colab": {
      "name": "9일차.ipynb",
      "provenance": [],
      "mount_file_id": "1W26DLPtAm9-gswSsIGHnksBYwn1_uFwQ",
      "authorship_tag": "ABX9TyOhflf3GVth/LLaEgcJ+s6h",
      "include_colab_link": true
    },
    "kernelspec": {
      "name": "python3",
      "display_name": "Python 3"
    }
  },
  "cells": [
    {
      "cell_type": "markdown",
      "metadata": {
        "id": "view-in-github",
        "colab_type": "text"
      },
      "source": [
        "<a href=\"https://colab.research.google.com/github/alsnwlsn/python/blob/master/9%EC%9D%BC%EC%B0%A8.ipynb\" target=\"_parent\"><img src=\"https://colab.research.google.com/assets/colab-badge.svg\" alt=\"Open In Colab\"/></a>"
      ]
    },
    {
      "cell_type": "markdown",
      "metadata": {
        "id": "jtkplmRzBbdc",
        "colab_type": "text"
      },
      "source": [
        "◆ 상권(상가)정보란?\n",
        "\n",
        " 상가정보는 전국 약 200만 상가업소에 대한 정보로서, 창업 시 입지선정, 업종전환, 점포이력, 경쟁분석, 마케팅 등 창업과 경영을 위한 상권정보서비스의 핵심 정보이다. 소상공인시장진흥공단에서는 소상공인의 성공적인 입지와 업종선정을 지원하기 위해 지역별·업종별 종합적인 상권정보 43개 항목, 약 200만건을 개방한다. 또한, 국민연금관리공단, 민간기관(NICE평가정보, SKP, 스마트로, 현대엠엔소프트 등) 상가정보를 수집·활용한 종합 상권분석 서비스를 통해 고품질의 상가정보를 활용할 수 있다."
      ]
    },
    {
      "cell_type": "code",
      "metadata": {
        "id": "JgC7B8ELBhdE",
        "colab_type": "code",
        "colab": {}
      },
      "source": [
        "import pandas as pd\n",
        "a=['kor','eng','math']\n",
        "b=[90,100,80]"
      ],
      "execution_count": 0,
      "outputs": []
    },
    {
      "cell_type": "code",
      "metadata": {
        "id": "ver9QuzVCtaG",
        "colab_type": "code",
        "colab": {
          "base_uri": "https://localhost:8080/",
          "height": 136
        },
        "outputId": "7dd45d83-6230-40f2-c5c3-f45323228ffe"
      },
      "source": [
        "df=pd.DataFrame(a,b)\n",
        "df.index=1,2,3\n",
        "df.columns=['sub']\n",
        "df"
      ],
      "execution_count": 14,
      "outputs": [
        {
          "output_type": "execute_result",
          "data": {
            "text/html": [
              "<div>\n",
              "<style scoped>\n",
              "    .dataframe tbody tr th:only-of-type {\n",
              "        vertical-align: middle;\n",
              "    }\n",
              "\n",
              "    .dataframe tbody tr th {\n",
              "        vertical-align: top;\n",
              "    }\n",
              "\n",
              "    .dataframe thead th {\n",
              "        text-align: right;\n",
              "    }\n",
              "</style>\n",
              "<table border=\"1\" class=\"dataframe\">\n",
              "  <thead>\n",
              "    <tr style=\"text-align: right;\">\n",
              "      <th></th>\n",
              "      <th>sub</th>\n",
              "    </tr>\n",
              "  </thead>\n",
              "  <tbody>\n",
              "    <tr>\n",
              "      <th>1</th>\n",
              "      <td>kor</td>\n",
              "    </tr>\n",
              "    <tr>\n",
              "      <th>2</th>\n",
              "      <td>eng</td>\n",
              "    </tr>\n",
              "    <tr>\n",
              "      <th>3</th>\n",
              "      <td>math</td>\n",
              "    </tr>\n",
              "  </tbody>\n",
              "</table>\n",
              "</div>"
            ],
            "text/plain": [
              "    sub\n",
              "1   kor\n",
              "2   eng\n",
              "3  math"
            ]
          },
          "metadata": {
            "tags": []
          },
          "execution_count": 14
        }
      ]
    },
    {
      "cell_type": "code",
      "metadata": {
        "id": "-phxMnXZENyo",
        "colab_type": "code",
        "colab": {
          "base_uri": "https://localhost:8080/",
          "height": 282
        },
        "outputId": "fe0d29c0-74a0-4d7e-e9ce-fc0b1fdb0e4f"
      },
      "source": [
        "import matplotlib.pyplot as plt\n",
        "plt.bar(a,b)"
      ],
      "execution_count": 16,
      "outputs": [
        {
          "output_type": "execute_result",
          "data": {
            "text/plain": [
              "<BarContainer object of 3 artists>"
            ]
          },
          "metadata": {
            "tags": []
          },
          "execution_count": 16
        },
        {
          "output_type": "display_data",
          "data": {
            "image/png": "[encoded data removed]",
            "text/plain": [
              "<Figure size 432x288 with 1 Axes>"
            ]
          },
          "metadata": {
            "tags": [],
            "needs_background": "light"
          }
        }
      ]
    },
    {
      "cell_type": "code",
      "metadata": {
        "id": "NBiXm76iE27H",
        "colab_type": "code",
        "colab": {
          "base_uri": "https://localhost:8080/",
          "height": 313
        },
        "outputId": "bdbf7ef1-0a63-460c-8c4d-7d03d9adb1d4"
      },
      "source": [
        "plt.plot(a,b)\n",
        "plt.plot([1,2,3,4,5],[88,50,10,90,20])\n",
        "plt.xlabel('X name')\n",
        "plt.ylabel('Y value')\n",
        "plt.title('Test')\n",
        "plt.legend(['A','B'])"
      ],
      "execution_count": 29,
      "outputs": [
        {
          "output_type": "execute_result",
          "data": {
            "text/plain": [
              "<matplotlib.legend.Legend at 0x7fd07483b400>"
            ]
          },
          "metadata": {
            "tags": []
          },
          "execution_count": 29
        },
        {
          "output_type": "display_data",
          "data": {
            "image/png": "[encoded data removed]",
            "text/plain": [
              "<Figure size 432x288 with 1 Axes>"
            ]
          },
          "metadata": {
            "tags": [],
            "needs_background": "light"
          }
        }
      ]
    },
    {
      "cell_type": "code",
      "metadata": {
        "id": "RinTB54mE7pX",
        "colab_type": "code",
        "colab": {
          "base_uri": "https://localhost:8080/",
          "height": 313
        },
        "outputId": "d20bad94-3219-4584-b956-4421ed47e51a"
      },
      "source": [
        "plt.barh(b,width=0.4,color='blue')\n",
        "plt.xlabel('X name')\n",
        "plt.ylabel('Y value')\n",
        "plt.title('Test')\n",
        "plt.legend(['A','B'])"
      ],
      "execution_count": 38,
      "outputs": [
        {
          "output_type": "execute_result",
          "data": {
            "text/plain": [
              "<matplotlib.legend.Legend at 0x7fd0745cde80>"
            ]
          },
          "metadata": {
            "tags": []
          },
          "execution_count": 38
        },
        {
          "output_type": "display_data",
          "data": {
            "image/png": "[encoded data removed]",
            "text/plain": [
              "<Figure size 432x288 with 1 Axes>"
            ]
          },
          "metadata": {
            "tags": [],
            "needs_background": "light"
          }
        }
      ]
    }
  ]
}