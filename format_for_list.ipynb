{
 "cells": [
  {
   "cell_type": "markdown",
   "metadata": {},
   "source": [
    "### Format_for_list"
   ]
  },
  {
   "cell_type": "code",
   "execution_count": 1,
   "metadata": {},
   "outputs": [
    {
     "name": "stdout",
     "output_type": "stream",
     "text": [
      "대건 윤기 찬빈\n"
     ]
    }
   ],
   "source": [
    "s = '{} {} {}'\n",
    "f = s.format('대건','윤기','찬빈')\n",
    "print(f)"
   ]
  },
  {
   "cell_type": "code",
   "execution_count": 5,
   "metadata": {},
   "outputs": [
    {
     "name": "stdout",
     "output_type": "stream",
     "text": [
      "대건이는 12번이고 인천대학교 진학했다\n"
     ]
    }
   ],
   "source": [
    "s = '{}이는 {}번이고 {} 진학했다'\n",
    "f = s.format('대건',12,'인천대학교')\n",
    "print(f)"
   ]
  },
  {
   "cell_type": "code",
   "execution_count": 6,
   "metadata": {},
   "outputs": [
    {
     "name": "stdout",
     "output_type": "stream",
     "text": [
      "석찬이는 30303번이고 인천시 연수구 살고잇다\n"
     ]
    }
   ],
   "source": [
    "name = '석찬'\n",
    "num = 30303\n",
    "add = '인천시 연수구'\n",
    "s = '{}이는 {}번이고 {} 살고잇다'\n",
    "f = s.format(name,num,add)\n",
    "print(f)"
   ]
  },
  {
   "cell_type": "code",
   "execution_count": 9,
   "metadata": {},
   "outputs": [
    {
     "name": "stdout",
     "output_type": "stream",
     "text": [
      "이름입력 :ㅇ\n",
      "학번입력 :ㅇ\n",
      "주소입력 :ㅇ\n",
      "ㅇ은(는) ㅇ번이고 ㅇ에 살고잇다\n"
     ]
    }
   ],
   "source": [
    "name = input('이름입력 :') \n",
    "num = input('학번입력 :')\n",
    "add = input('주소입력 :')\n",
    "s = '{}은(는) {}번이고 {}에 살고잇다'\n",
    "f = s.format(name,num,add)\n",
    "print(f)"
   ]
  },
  {
   "cell_type": "code",
   "execution_count": 17,
   "metadata": {},
   "outputs": [
    {
     "name": "stdout",
     "output_type": "stream",
     "text": [
      "이름,학번,주소입력 :허대범 30318 민수하우스\n"
     ]
    }
   ],
   "source": [
    "stu = input('이름,학번,주소입력 :').split()"
   ]
  },
  {
   "cell_type": "code",
   "execution_count": 18,
   "metadata": {},
   "outputs": [
    {
     "name": "stdout",
     "output_type": "stream",
     "text": [
      "허대범은(는) 30318번이고 민수하우스 살고잇다\n"
     ]
    }
   ],
   "source": [
    "s = '{}은(는) {}번이고 {} 살고잇다'\n",
    "f = s.format(stu[0],stu[1],stu[2])\n",
    "print(f)"
   ]
  },
  {
   "cell_type": "markdown",
   "metadata": {},
   "source": [
    "#### [문제1]다음과 같은 양식으로 입력받아 출력하기\n",
    "- 햄버거/2/4 입력하면\n",
    "- 햄버거 2개 값은 8$입니다."
   ]
  },
  {
   "cell_type": "code",
   "execution_count": 1,
   "metadata": {},
   "outputs": [
    {
     "name": "stdout",
     "output_type": "stream",
     "text": [
      "다음과같이입력 먹고싶은것/개수/가격  : 치킨/2/4\n",
      "치킨2개 값은 8$입니다\n"
     ]
    }
   ],
   "source": [
    "ham = input(\"다음과같이입력 먹고싶은것/개수/가격  : \").split('/')\n",
    "sum=int(ham[1])*int(ham[2])\n",
    "s = '{}{}개 값은 {}$입니다'\n",
    "f = s.format(ham[0],ham[1],sum)\n",
    "print(f)"
   ]
  },
  {
   "cell_type": "code",
   "execution_count": 3,
   "metadata": {},
   "outputs": [
    {
     "name": "stdout",
     "output_type": "stream",
     "text": [
      "50 인천 0.50\n"
     ]
    }
   ],
   "source": [
    "info = '%d %s %0.2f'\n",
    "pr = info%(50,'인천',0.5)\n",
    "print(pr)"
   ]
  },
  {
   "cell_type": "code",
   "execution_count": 5,
   "metadata": {},
   "outputs": [
    {
     "name": "stdout",
     "output_type": "stream",
     "text": [
      "50년도 인천여고 0.50퍼센트\n"
     ]
    }
   ],
   "source": [
    "info = '%d년도 %s여고 %0.2f퍼센트'\n",
    "pr = info%(50,'인천',0.5)\n",
    "print(pr)"
   ]
  },
  {
   "cell_type": "markdown",
   "metadata": {},
   "source": [
    "### [문제2] 햄버거 2개는 8달러입니다"
   ]
  },
  {
   "cell_type": "code",
   "execution_count": 8,
   "metadata": {},
   "outputs": [
    {
     "name": "stdout",
     "output_type": "stream",
     "text": [
      "햅버거 2개는 8.0달라입니다\n"
     ]
    }
   ],
   "source": [
    "info = '%s %d개는 %0.1f달라입니다'\n",
    "pr = info%('햅버거',2,2*4)\n",
    "print(pr)"
   ]
  },
  {
   "cell_type": "markdown",
   "metadata": {},
   "source": [
    "### List"
   ]
  },
  {
   "cell_type": "code",
   "execution_count": 9,
   "metadata": {},
   "outputs": [
    {
     "data": {
      "text/plain": [
       "[1, 2, 3, 4, 5]"
      ]
     },
     "execution_count": 9,
     "metadata": {},
     "output_type": "execute_result"
    }
   ],
   "source": [
    "arr = [1,2,3,4,5]\n",
    "arr"
   ]
  },
  {
   "cell_type": "code",
   "execution_count": 13,
   "metadata": {},
   "outputs": [
    {
     "data": {
      "text/plain": [
       "['성곤', '대건', '대범', '호정']"
      ]
     },
     "execution_count": 13,
     "metadata": {},
     "output_type": "execute_result"
    }
   ],
   "source": [
    "arr = ['성곤','대건','대범','호정']\n",
    "arr"
   ]
  },
  {
   "cell_type": "code",
   "execution_count": 11,
   "metadata": {},
   "outputs": [
    {
     "data": {
      "text/plain": [
       "'성곤'"
      ]
     },
     "execution_count": 11,
     "metadata": {},
     "output_type": "execute_result"
    }
   ],
   "source": [
    "arr[0]"
   ]
  },
  {
   "cell_type": "code",
   "execution_count": 14,
   "metadata": {},
   "outputs": [
    {
     "data": {
      "text/plain": [
       "4"
      ]
     },
     "execution_count": 14,
     "metadata": {},
     "output_type": "execute_result"
    }
   ],
   "source": [
    "len(arr)"
   ]
  },
  {
   "cell_type": "code",
   "execution_count": 20,
   "metadata": {},
   "outputs": [
    {
     "name": "stdout",
     "output_type": "stream",
     "text": [
      "성곤\n",
      "대건\n",
      "대범\n",
      "호정\n"
     ]
    }
   ],
   "source": [
    "for i in arr :\n",
    "    print(i)"
   ]
  },
  {
   "cell_type": "code",
   "execution_count": 26,
   "metadata": {},
   "outputs": [
    {
     "name": "stdout",
     "output_type": "stream",
     "text": [
      "0\n",
      "1\n",
      "2\n",
      "3\n"
     ]
    }
   ],
   "source": [
    "for i in range(len(arr)):\n",
    "    print(i)"
   ]
  },
  {
   "cell_type": "code",
   "execution_count": 27,
   "metadata": {},
   "outputs": [
    {
     "name": "stdout",
     "output_type": "stream",
     "text": [
      "성곤\n",
      "대건\n",
      "대범\n",
      "호정\n"
     ]
    }
   ],
   "source": [
    "for i in range(len(arr)):\n",
    "    print(arr[i])"
   ]
  },
  {
   "cell_type": "code",
   "execution_count": 30,
   "metadata": {},
   "outputs": [
    {
     "name": "stdout",
     "output_type": "stream",
     "text": [
      "1 번 성곤\n",
      "2 번 대건\n",
      "3 번 대범\n",
      "4 번 호정\n"
     ]
    }
   ],
   "source": [
    "for i,val in enumerate(arr):\n",
    "    print(i+1,\"번\",val)"
   ]
  },
  {
   "cell_type": "markdown",
   "metadata": {},
   "source": [
    "### [문제1] 30부터 50까지 출력"
   ]
  },
  {
   "cell_type": "code",
   "execution_count": 32,
   "metadata": {},
   "outputs": [
    {
     "name": "stdout",
     "output_type": "stream",
     "text": [
      "30\n",
      "31\n",
      "32\n",
      "33\n",
      "34\n",
      "35\n",
      "36\n",
      "37\n",
      "38\n",
      "39\n",
      "40\n",
      "41\n",
      "42\n",
      "43\n",
      "44\n",
      "45\n",
      "46\n",
      "47\n",
      "48\n",
      "49\n",
      "50\n"
     ]
    }
   ],
   "source": [
    "for i in range(30,51) :\n",
    "    print(i)"
   ]
  },
  {
   "cell_type": "markdown",
   "metadata": {},
   "source": [
    "### [문제2] 30부터 50까지 중에서 홀수만 출력"
   ]
  },
  {
   "cell_type": "code",
   "execution_count": 33,
   "metadata": {},
   "outputs": [
    {
     "name": "stdout",
     "output_type": "stream",
     "text": [
      "31\n",
      "33\n",
      "35\n",
      "37\n",
      "39\n",
      "41\n",
      "43\n",
      "45\n",
      "47\n",
      "49\n"
     ]
    }
   ],
   "source": [
    "for i in range(30,51) :\n",
    "    if i%2!=0 :\n",
    "        print(i)"
   ]
  },
  {
   "cell_type": "markdown",
   "metadata": {},
   "source": [
    "### [문제3]30부터 50까지 중에서 홀수만 더해서 출력"
   ]
  },
  {
   "cell_type": "code",
   "execution_count": 38,
   "metadata": {},
   "outputs": [
    {
     "name": "stdout",
     "output_type": "stream",
     "text": [
      "31\n",
      "33\n",
      "35\n",
      "37\n",
      "39\n",
      "41\n",
      "43\n",
      "45\n",
      "47\n",
      "49\n",
      "총합 :  400\n"
     ]
    }
   ],
   "source": [
    "sum = 0\n",
    "for i in range(30,51) :\n",
    "    if i%2!=0 :\n",
    "        print(i)\n",
    "        sum=sum+i\n",
    "print(\"총합 : \",sum)"
   ]
  },
  {
   "cell_type": "markdown",
   "metadata": {},
   "source": [
    "### [문제4]1부터 10까지 중에서 짝수이면 파이썬 홀수이면 야 너도 할수 있어 출력\n"
   ]
  },
  {
   "cell_type": "code",
   "execution_count": 40,
   "metadata": {},
   "outputs": [
    {
     "name": "stdout",
     "output_type": "stream",
     "text": [
      "1 야 너도 할수 있어\n",
      "2 파이썬\n",
      "3 야 너도 할수 있어\n",
      "4 파이썬\n",
      "5 야 너도 할수 있어\n",
      "6 파이썬\n",
      "7 야 너도 할수 있어\n",
      "8 파이썬\n",
      "9 야 너도 할수 있어\n",
      "10 파이썬\n"
     ]
    }
   ],
   "source": [
    "for i in range(1,11) :\n",
    "    if i%2==0 :\n",
    "        print(i,\"파이썬\")\n",
    "    else :\n",
    "        print(i,\"야 너도 할수 있어\")\n",
    "    "
   ]
  }
 ],
 "metadata": {
  "kernelspec": {
   "display_name": "Python 3",
   "language": "python",
   "name": "python3"
  },
  "language_info": {
   "codemirror_mode": {
    "name": "ipython",
    "version": 3
   },
   "file_extension": ".py",
   "mimetype": "text/x-python",
   "name": "python",
   "nbconvert_exporter": "python",
   "pygments_lexer": "ipython3",
   "version": "3.7.4"
  }
 },
 "nbformat": 4,
 "nbformat_minor": 2
}
