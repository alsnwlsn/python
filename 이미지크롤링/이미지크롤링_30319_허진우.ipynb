{
 "cells": [
  {
   "cell_type": "markdown",
   "metadata": {},
   "source": [
    "### 이미지크롤링_30319_허진우"
   ]
  },
  {
   "cell_type": "code",
   "execution_count": 1,
   "metadata": {},
   "outputs": [
    {
     "name": "stdout",
     "output_type": "stream",
     "text": [
      "Requirement already satisfied: bs4 in c:\\users\\user\\anaconda3\\lib\\site-packages (0.0.1)\n",
      "Requirement already satisfied: beautifulsoup4 in c:\\users\\user\\anaconda3\\lib\\site-packages (from bs4) (4.8.0)\n",
      "Requirement already satisfied: soupsieve>=1.2 in c:\\users\\user\\anaconda3\\lib\\site-packages (from beautifulsoup4->bs4) (1.9.3)\n",
      "Note: you may need to restart the kernel to use updated packages.\n"
     ]
    }
   ],
   "source": [
    "pip install bs4"
   ]
  },
  {
   "cell_type": "code",
   "execution_count": 2,
   "metadata": {},
   "outputs": [],
   "source": [
    "from bs4 import BeautifulSoup as bs\n",
    "from urllib.request import urlopen\n",
    "from urllib.parse import quote_plus"
   ]
  },
  {
   "cell_type": "code",
   "execution_count": 46,
   "metadata": {},
   "outputs": [
    {
     "name": "stdout",
     "output_type": "stream",
     "text": [
      "검색어 : 고양이\n",
      "검색량 : 10\n"
     ]
    }
   ],
   "source": [
    "base_url = \"https://search.naver.com/search.naver?where=image&sm=tab_jum&query=\"\n",
    "plus_url = input(\"검색어 : \")\n",
    "num = int(input(\"검색량 : \"))"
   ]
  },
  {
   "cell_type": "code",
   "execution_count": 47,
   "metadata": {},
   "outputs": [],
   "source": [
    "url = base_url + quote_plus(plus_url)\n",
    "html = urlopen(url)"
   ]
  },
  {
   "cell_type": "code",
   "execution_count": 48,
   "metadata": {},
   "outputs": [],
   "source": [
    "soup=bs(html,\"html.parser\")\n",
    "img = soup.find_all(class_='_img')"
   ]
  },
  {
   "cell_type": "code",
   "execution_count": 49,
   "metadata": {
    "scrolled": true
   },
   "outputs": [
    {
     "name": "stdout",
     "output_type": "stream",
     "text": [
      "1\n",
      "2\n",
      "3\n",
      "4\n",
      "5\n",
      "6\n",
      "7\n",
      "8\n",
      "9\n",
      "10\n"
     ]
    }
   ],
   "source": [
    "n = 1\n",
    "for i in img:\n",
    "    print(n)\n",
    "    imgurl = i['data-source']\n",
    "    with urlopen(imgurl) as f:\n",
    "        with open('./img/img'+str(n)+'.jpg','wb')as h:\n",
    "            img = f.read()\n",
    "            h.write(img)\n",
    "    n+=1\n",
    "    if n>num:\n",
    "        break"
   ]
  },
  {
   "cell_type": "code",
   "execution_count": 59,
   "metadata": {},
   "outputs": [
    {
     "name": "stdout",
     "output_type": "stream",
     "text": [
      "검색어 : 마동석\n",
      "검색량 : 50\n",
      "1\n",
      "2\n",
      "3\n",
      "4\n",
      "5\n",
      "6\n",
      "7\n",
      "8\n",
      "9\n",
      "10\n",
      "11\n",
      "12\n",
      "13\n",
      "14\n",
      "15\n",
      "16\n",
      "17\n",
      "18\n",
      "19\n",
      "20\n",
      "21\n",
      "22\n",
      "23\n",
      "24\n",
      "25\n",
      "26\n",
      "27\n",
      "28\n",
      "29\n",
      "30\n",
      "31\n",
      "32\n",
      "33\n",
      "34\n",
      "35\n",
      "36\n",
      "37\n",
      "38\n",
      "39\n",
      "40\n",
      "41\n",
      "42\n",
      "43\n",
      "44\n",
      "45\n",
      "46\n",
      "47\n",
      "48\n",
      "49\n",
      "50\n"
     ]
    }
   ],
   "source": [
    "base_url = \"https://search.naver.com/search.naver?where=image&sm=tab_jum&query=\"\n",
    "plus_url = input(\"검색어 : \")\n",
    "num = int(input(\"검색량 : \"))\n",
    "url = base_url + quote_plus(plus_url)\n",
    "html = urlopen(url)\n",
    "soup=bs(html,\"html.parser\")\n",
    "img = soup.find_all(class_='_img')\n",
    "n = 1\n",
    "for i in img:\n",
    "    print(n)\n",
    "    imgurl = i['data-source']\n",
    "    with urlopen(imgurl) as f:\n",
    "        with open('./img/img'+str(n)+'.jpg','wb')as h:\n",
    "            img = f.read()\n",
    "            h.write(img)\n",
    "    n+=1\n",
    "    if n>num:\n",
    "        break"
   ]
  },
  {
   "cell_type": "code",
   "execution_count": 53,
   "metadata": {},
   "outputs": [
    {
     "name": "stdout",
     "output_type": "stream",
     "text": [
      "검색어 : 제목학원\n",
      "검색량 : 50\n",
      "1\n",
      "2\n",
      "3\n",
      "4\n",
      "5\n",
      "6\n",
      "7\n",
      "8\n",
      "9\n",
      "10\n",
      "11\n",
      "12\n",
      "13\n",
      "14\n",
      "15\n",
      "16\n",
      "17\n",
      "18\n",
      "19\n",
      "20\n",
      "21\n",
      "22\n",
      "23\n",
      "24\n",
      "25\n",
      "26\n",
      "27\n",
      "28\n",
      "29\n",
      "30\n",
      "31\n",
      "32\n",
      "33\n",
      "34\n",
      "35\n",
      "36\n",
      "37\n",
      "38\n",
      "39\n",
      "40\n",
      "41\n",
      "42\n",
      "43\n",
      "44\n",
      "45\n",
      "46\n",
      "47\n",
      "48\n",
      "49\n",
      "50\n"
     ]
    }
   ],
   "source": [
    "base_url = \"https://search.naver.com/search.naver?where=image&sm=tab_jum&query=\"\n",
    "plus_url = input(\"검색어 : \")\n",
    "num = int(input(\"검색량 : \"))\n",
    "url = base_url + quote_plus(plus_url)\n",
    "html = urlopen(url)\n",
    "soup=bs(html,\"html.parser\")\n",
    "img = soup.find_all(class_='_img')\n",
    "n = 1\n",
    "for i in img:\n",
    "    print(n)\n",
    "    imgurl = i['data-source']\n",
    "    with urlopen(imgurl) as f:\n",
    "        with open('./img1/img'+str(n)+'.jpg','wb')as h:\n",
    "            img = f.read()\n",
    "            h.write(img)\n",
    "    n+=1\n",
    "    if n>num:\n",
    "        break"
   ]
  },
  {
   "cell_type": "code",
   "execution_count": 58,
   "metadata": {},
   "outputs": [
    {
     "name": "stdout",
     "output_type": "stream",
     "text": [
      "검색어 : 고양이\n",
      "검색량 : 50\n",
      "1\n",
      "2\n",
      "3\n",
      "4\n",
      "5\n",
      "6\n",
      "7\n",
      "8\n",
      "9\n",
      "10\n",
      "11\n",
      "12\n",
      "13\n",
      "14\n",
      "15\n",
      "16\n",
      "17\n",
      "18\n",
      "19\n",
      "20\n",
      "21\n",
      "22\n",
      "23\n",
      "24\n",
      "25\n",
      "26\n",
      "27\n",
      "28\n",
      "29\n",
      "30\n",
      "31\n",
      "32\n",
      "33\n",
      "34\n",
      "35\n",
      "36\n",
      "37\n",
      "38\n",
      "39\n",
      "40\n",
      "41\n",
      "42\n",
      "43\n",
      "44\n",
      "45\n",
      "46\n",
      "47\n",
      "48\n",
      "49\n",
      "50\n"
     ]
    }
   ],
   "source": [
    "base_url = \"https://search.naver.com/search.naver?where=image&sm=tab_jum&query=\"\n",
    "plus_url = input(\"검색어 : \")\n",
    "num = int(input(\"검색량 : \"))\n",
    "url = base_url + quote_plus(plus_url)\n",
    "html = urlopen(url)\n",
    "soup=bs(html,\"html.parser\")\n",
    "img = soup.find_all(class_='_img')\n",
    "n = 1\n",
    "for i in img:\n",
    "    print(n)\n",
    "    imgurl = i['data-source']\n",
    "    with urlopen(imgurl) as f:\n",
    "        with open('./img2/img'+str(n)+'.jpg','wb')as h:\n",
    "            img = f.read()\n",
    "            h.write(img)\n",
    "    n+=1\n",
    "    if n>num:\n",
    "        break"
   ]
  }
 ],
 "metadata": {
  "kernelspec": {
   "display_name": "Python 3",
   "language": "python",
   "name": "python3"
  },
  "language_info": {
   "codemirror_mode": {
    "name": "ipython",
    "version": 3
   },
   "file_extension": ".py",
   "mimetype": "text/x-python",
   "name": "python",
   "nbconvert_exporter": "python",
   "pygments_lexer": "ipython3",
   "version": "3.7.4"
  }
 },
 "nbformat": 4,
 "nbformat_minor": 2
}
